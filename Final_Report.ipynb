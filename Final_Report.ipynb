{
 "cells": [
  {
   "cell_type": "markdown",
   "id": "41849e8b-87e7-40e7-ade5-fcfdca9a827b",
   "metadata": {},
   "source": [
    "loads data \n",
    "wrangles and cleans the data to the format necessary for the planned analysis\n",
    "tidy_sessions <- sessions |>\n",
    "         mutate(start_time = as.POSIXct(start_time, format = \"%d/%m/%Y %H:%M\", tz = \"UTC\"),\n",
    "         hour_of_day = hour(start_time),\n",
    "         month_of_year = month(start_time, label = TRUE),\n",
    "         week_of_year = week(start_time)) |>\n",
    "         mutate(end_time = as.POSIXct(end_time, format = \"%d/%m/%Y %H:%M\", tz = \"UTC\")) |>\n",
    "        \t\t\t separate (col = start_time,\n",
    "\t\t\t\t     into = c(\"date\",\"start_time\"),\n",
    "\t\t\t\t     sep = \" \") |>\n",
    "                     separate (col = end_time,\n",
    "\t\t\t\t     into = c(\"date\",\"end_time\"),\n",
    "\t\t\t\t     sep = \" \")\n",
    "\n",
    "performs a summary of the data set that is relevant for exploratory data analysis related to the planned analysis \n",
    "creates a visualization of the dataset that is relevant for exploratory data analysis related to the planned analysis\n",
    "performs the data analysis\n",
    "creates a visualization of the analysis \n"
   ]
  },
  {
   "cell_type": "markdown",
   "id": "9124660e-04e3-4739-9b54-b6f622f3c50d",
   "metadata": {},
   "source": [
    "# Loading the Data"
   ]
  },
  {
   "cell_type": "code",
   "execution_count": 35,
   "id": "bfd3a1a3-c59b-405a-9977-3783b2c89fcd",
   "metadata": {},
   "outputs": [],
   "source": [
    "library(tidyverse)"
   ]
  },
  {
   "cell_type": "code",
   "execution_count": 3,
   "id": "0b744d4f-14f3-4489-b167-21fe0e267921",
   "metadata": {},
   "outputs": [
    {
     "name": "stderr",
     "output_type": "stream",
     "text": [
      "\u001b[1mRows: \u001b[22m\u001b[34m1535\u001b[39m \u001b[1mColumns: \u001b[22m\u001b[34m5\u001b[39m\n",
      "\u001b[36m──\u001b[39m \u001b[1mColumn specification\u001b[22m \u001b[36m────────────────────────────────────────────────────────\u001b[39m\n",
      "\u001b[1mDelimiter:\u001b[22m \",\"\n",
      "\u001b[31mchr\u001b[39m (3): hashedEmail, start_time, end_time\n",
      "\u001b[32mdbl\u001b[39m (2): original_start_time, original_end_time\n",
      "\n",
      "\u001b[36mℹ\u001b[39m Use `spec()` to retrieve the full column specification for this data.\n",
      "\u001b[36mℹ\u001b[39m Specify the column types or set `show_col_types = FALSE` to quiet this message.\n"
     ]
    }
   ],
   "source": [
    "sessions <- \"data/sessions.csv\" |>\n",
    "    read_csv()"
   ]
  },
  {
   "cell_type": "code",
   "execution_count": 4,
   "id": "d7fd6efa-bdfa-43ca-8b5e-3a31045aa306",
   "metadata": {
    "scrolled": true
   },
   "outputs": [
    {
     "data": {
      "text/html": [
       "'Number of Observations: 1535'"
      ],
      "text/latex": [
       "'Number of Observations: 1535'"
      ],
      "text/markdown": [
       "'Number of Observations: 1535'"
      ],
      "text/plain": [
       "[1] \"Number of Observations: 1535\""
      ]
     },
     "metadata": {},
     "output_type": "display_data"
    }
   ],
   "source": [
    "numrows <- sessions |>\n",
    "    nrow()\n",
    "sprintf(\"Number of Observations: %s\", numrows)"
   ]
  },
  {
   "cell_type": "markdown",
   "id": "a4b0cdce-3d5f-4719-99e3-4bd541487e6f",
   "metadata": {},
   "source": [
    "# Wrangle and Cleaning the Data"
   ]
  },
  {
   "cell_type": "markdown",
   "id": "f843e476-1b9e-451f-b588-07b4cbc0f2d7",
   "metadata": {},
   "source": [
    "Using the previously loaded in sessions file, the data we'll have to be tidied so that it can be used more effectively later.\n",
    "\n",
    "To start, we'll rename the hashedEmail column to be consistent with the other columns and by separate starting and ending date and time into their own columns."
   ]
  },
  {
   "cell_type": "code",
   "execution_count": 36,
   "id": "1a7703b3-bc43-4893-8c55-1ba2899efd24",
   "metadata": {},
   "outputs": [
    {
     "data": {
      "text/html": [
       "<table class=\"dataframe\">\n",
       "<caption>A tibble: 10 × 7</caption>\n",
       "<thead>\n",
       "\t<tr><th scope=col>hashed_email</th><th scope=col>start_date</th><th scope=col>start_time</th><th scope=col>end_date</th><th scope=col>end_time</th><th scope=col>original_start_time</th><th scope=col>original_end_time</th></tr>\n",
       "\t<tr><th scope=col>&lt;chr&gt;</th><th scope=col>&lt;chr&gt;</th><th scope=col>&lt;chr&gt;</th><th scope=col>&lt;chr&gt;</th><th scope=col>&lt;chr&gt;</th><th scope=col>&lt;dbl&gt;</th><th scope=col>&lt;dbl&gt;</th></tr>\n",
       "</thead>\n",
       "<tbody>\n",
       "\t<tr><td>bfce39c89d6549f2bb94d8064d3ce69dc3d7e72b38f431d8aa0c4bf95ccee6bf</td><td>30/06/2024</td><td>18:12</td><td>30/06/2024</td><td>18:24</td><td>1.71977e+12</td><td>1.71977e+12</td></tr>\n",
       "\t<tr><td>36d9cbb4c6bc0c1a6911436d2da0d09ec625e43e6552f575d4acc9cf487c4686</td><td>17/06/2024</td><td>23:33</td><td>17/06/2024</td><td>23:46</td><td>1.71867e+12</td><td>1.71867e+12</td></tr>\n",
       "\t<tr><td>f8f5477f5a2e53616ae37421b1c660b971192bd8ff77e3398304c7ae42581fdc</td><td>25/07/2024</td><td>17:34</td><td>25/07/2024</td><td>17:57</td><td>1.72193e+12</td><td>1.72193e+12</td></tr>\n",
       "\t<tr><td>bfce39c89d6549f2bb94d8064d3ce69dc3d7e72b38f431d8aa0c4bf95ccee6bf</td><td>25/07/2024</td><td>03:22</td><td>25/07/2024</td><td>03:58</td><td>1.72188e+12</td><td>1.72188e+12</td></tr>\n",
       "\t<tr><td>36d9cbb4c6bc0c1a6911436d2da0d09ec625e43e6552f575d4acc9cf487c4686</td><td>25/05/2024</td><td>16:01</td><td>25/05/2024</td><td>16:12</td><td>1.71665e+12</td><td>1.71665e+12</td></tr>\n",
       "\t<tr><td>bfce39c89d6549f2bb94d8064d3ce69dc3d7e72b38f431d8aa0c4bf95ccee6bf</td><td>23/06/2024</td><td>15:08</td><td>23/06/2024</td><td>17:10</td><td>1.71916e+12</td><td>1.71916e+12</td></tr>\n",
       "\t<tr><td>fd6563a4e0f6f4273580e5fedbd8dda64990447aea5a33cbb5e894a3867ca44d</td><td>15/04/2024</td><td>07:12</td><td>15/04/2024</td><td>07:21</td><td>1.71317e+12</td><td>1.71317e+12</td></tr>\n",
       "\t<tr><td>ad6390295640af1ed0e45ffc58a53b2d9074b0eea694b16210addd44d7c81f83</td><td>21/09/2024</td><td>02:13</td><td>21/09/2024</td><td>02:30</td><td>1.72688e+12</td><td>1.72689e+12</td></tr>\n",
       "\t<tr><td>96e190b0bf3923cd8d349eee467c09d1130af143335779251492eb4c2c058a5f</td><td>21/06/2024</td><td>02:31</td><td>21/06/2024</td><td>02:49</td><td>1.71894e+12</td><td>1.71894e+12</td></tr>\n",
       "\t<tr><td>36d9cbb4c6bc0c1a6911436d2da0d09ec625e43e6552f575d4acc9cf487c4686</td><td>16/05/2024</td><td>05:13</td><td>16/05/2024</td><td>05:52</td><td>1.71584e+12</td><td>1.71584e+12</td></tr>\n",
       "</tbody>\n",
       "</table>\n"
      ],
      "text/latex": [
       "A tibble: 10 × 7\n",
       "\\begin{tabular}{lllllll}\n",
       " hashed\\_email & start\\_date & start\\_time & end\\_date & end\\_time & original\\_start\\_time & original\\_end\\_time\\\\\n",
       " <chr> & <chr> & <chr> & <chr> & <chr> & <dbl> & <dbl>\\\\\n",
       "\\hline\n",
       "\t bfce39c89d6549f2bb94d8064d3ce69dc3d7e72b38f431d8aa0c4bf95ccee6bf & 30/06/2024 & 18:12 & 30/06/2024 & 18:24 & 1.71977e+12 & 1.71977e+12\\\\\n",
       "\t 36d9cbb4c6bc0c1a6911436d2da0d09ec625e43e6552f575d4acc9cf487c4686 & 17/06/2024 & 23:33 & 17/06/2024 & 23:46 & 1.71867e+12 & 1.71867e+12\\\\\n",
       "\t f8f5477f5a2e53616ae37421b1c660b971192bd8ff77e3398304c7ae42581fdc & 25/07/2024 & 17:34 & 25/07/2024 & 17:57 & 1.72193e+12 & 1.72193e+12\\\\\n",
       "\t bfce39c89d6549f2bb94d8064d3ce69dc3d7e72b38f431d8aa0c4bf95ccee6bf & 25/07/2024 & 03:22 & 25/07/2024 & 03:58 & 1.72188e+12 & 1.72188e+12\\\\\n",
       "\t 36d9cbb4c6bc0c1a6911436d2da0d09ec625e43e6552f575d4acc9cf487c4686 & 25/05/2024 & 16:01 & 25/05/2024 & 16:12 & 1.71665e+12 & 1.71665e+12\\\\\n",
       "\t bfce39c89d6549f2bb94d8064d3ce69dc3d7e72b38f431d8aa0c4bf95ccee6bf & 23/06/2024 & 15:08 & 23/06/2024 & 17:10 & 1.71916e+12 & 1.71916e+12\\\\\n",
       "\t fd6563a4e0f6f4273580e5fedbd8dda64990447aea5a33cbb5e894a3867ca44d & 15/04/2024 & 07:12 & 15/04/2024 & 07:21 & 1.71317e+12 & 1.71317e+12\\\\\n",
       "\t ad6390295640af1ed0e45ffc58a53b2d9074b0eea694b16210addd44d7c81f83 & 21/09/2024 & 02:13 & 21/09/2024 & 02:30 & 1.72688e+12 & 1.72689e+12\\\\\n",
       "\t 96e190b0bf3923cd8d349eee467c09d1130af143335779251492eb4c2c058a5f & 21/06/2024 & 02:31 & 21/06/2024 & 02:49 & 1.71894e+12 & 1.71894e+12\\\\\n",
       "\t 36d9cbb4c6bc0c1a6911436d2da0d09ec625e43e6552f575d4acc9cf487c4686 & 16/05/2024 & 05:13 & 16/05/2024 & 05:52 & 1.71584e+12 & 1.71584e+12\\\\\n",
       "\\end{tabular}\n"
      ],
      "text/markdown": [
       "\n",
       "A tibble: 10 × 7\n",
       "\n",
       "| hashed_email &lt;chr&gt; | start_date &lt;chr&gt; | start_time &lt;chr&gt; | end_date &lt;chr&gt; | end_time &lt;chr&gt; | original_start_time &lt;dbl&gt; | original_end_time &lt;dbl&gt; |\n",
       "|---|---|---|---|---|---|---|\n",
       "| bfce39c89d6549f2bb94d8064d3ce69dc3d7e72b38f431d8aa0c4bf95ccee6bf | 30/06/2024 | 18:12 | 30/06/2024 | 18:24 | 1.71977e+12 | 1.71977e+12 |\n",
       "| 36d9cbb4c6bc0c1a6911436d2da0d09ec625e43e6552f575d4acc9cf487c4686 | 17/06/2024 | 23:33 | 17/06/2024 | 23:46 | 1.71867e+12 | 1.71867e+12 |\n",
       "| f8f5477f5a2e53616ae37421b1c660b971192bd8ff77e3398304c7ae42581fdc | 25/07/2024 | 17:34 | 25/07/2024 | 17:57 | 1.72193e+12 | 1.72193e+12 |\n",
       "| bfce39c89d6549f2bb94d8064d3ce69dc3d7e72b38f431d8aa0c4bf95ccee6bf | 25/07/2024 | 03:22 | 25/07/2024 | 03:58 | 1.72188e+12 | 1.72188e+12 |\n",
       "| 36d9cbb4c6bc0c1a6911436d2da0d09ec625e43e6552f575d4acc9cf487c4686 | 25/05/2024 | 16:01 | 25/05/2024 | 16:12 | 1.71665e+12 | 1.71665e+12 |\n",
       "| bfce39c89d6549f2bb94d8064d3ce69dc3d7e72b38f431d8aa0c4bf95ccee6bf | 23/06/2024 | 15:08 | 23/06/2024 | 17:10 | 1.71916e+12 | 1.71916e+12 |\n",
       "| fd6563a4e0f6f4273580e5fedbd8dda64990447aea5a33cbb5e894a3867ca44d | 15/04/2024 | 07:12 | 15/04/2024 | 07:21 | 1.71317e+12 | 1.71317e+12 |\n",
       "| ad6390295640af1ed0e45ffc58a53b2d9074b0eea694b16210addd44d7c81f83 | 21/09/2024 | 02:13 | 21/09/2024 | 02:30 | 1.72688e+12 | 1.72689e+12 |\n",
       "| 96e190b0bf3923cd8d349eee467c09d1130af143335779251492eb4c2c058a5f | 21/06/2024 | 02:31 | 21/06/2024 | 02:49 | 1.71894e+12 | 1.71894e+12 |\n",
       "| 36d9cbb4c6bc0c1a6911436d2da0d09ec625e43e6552f575d4acc9cf487c4686 | 16/05/2024 | 05:13 | 16/05/2024 | 05:52 | 1.71584e+12 | 1.71584e+12 |\n",
       "\n"
      ],
      "text/plain": [
       "   hashed_email                                                     start_date\n",
       "1  bfce39c89d6549f2bb94d8064d3ce69dc3d7e72b38f431d8aa0c4bf95ccee6bf 30/06/2024\n",
       "2  36d9cbb4c6bc0c1a6911436d2da0d09ec625e43e6552f575d4acc9cf487c4686 17/06/2024\n",
       "3  f8f5477f5a2e53616ae37421b1c660b971192bd8ff77e3398304c7ae42581fdc 25/07/2024\n",
       "4  bfce39c89d6549f2bb94d8064d3ce69dc3d7e72b38f431d8aa0c4bf95ccee6bf 25/07/2024\n",
       "5  36d9cbb4c6bc0c1a6911436d2da0d09ec625e43e6552f575d4acc9cf487c4686 25/05/2024\n",
       "6  bfce39c89d6549f2bb94d8064d3ce69dc3d7e72b38f431d8aa0c4bf95ccee6bf 23/06/2024\n",
       "7  fd6563a4e0f6f4273580e5fedbd8dda64990447aea5a33cbb5e894a3867ca44d 15/04/2024\n",
       "8  ad6390295640af1ed0e45ffc58a53b2d9074b0eea694b16210addd44d7c81f83 21/09/2024\n",
       "9  96e190b0bf3923cd8d349eee467c09d1130af143335779251492eb4c2c058a5f 21/06/2024\n",
       "10 36d9cbb4c6bc0c1a6911436d2da0d09ec625e43e6552f575d4acc9cf487c4686 16/05/2024\n",
       "   start_time end_date   end_time original_start_time original_end_time\n",
       "1  18:12      30/06/2024 18:24    1.71977e+12         1.71977e+12      \n",
       "2  23:33      17/06/2024 23:46    1.71867e+12         1.71867e+12      \n",
       "3  17:34      25/07/2024 17:57    1.72193e+12         1.72193e+12      \n",
       "4  03:22      25/07/2024 03:58    1.72188e+12         1.72188e+12      \n",
       "5  16:01      25/05/2024 16:12    1.71665e+12         1.71665e+12      \n",
       "6  15:08      23/06/2024 17:10    1.71916e+12         1.71916e+12      \n",
       "7  07:12      15/04/2024 07:21    1.71317e+12         1.71317e+12      \n",
       "8  02:13      21/09/2024 02:30    1.72688e+12         1.72689e+12      \n",
       "9  02:31      21/06/2024 02:49    1.71894e+12         1.71894e+12      \n",
       "10 05:13      16/05/2024 05:52    1.71584e+12         1.71584e+12      "
      ]
     },
     "metadata": {},
     "output_type": "display_data"
    }
   ],
   "source": [
    "sessions_tidy <- sessions |>\n",
    "    rename(hashed_email = hashedEmail, start_time1 = start_time, end_time1 = end_time) |> # temporary names added to start and end time to prevent errors in seperate\n",
    "    separate(start_time1, into = c('start_date', 'start_time'), sep = ' ') |>\n",
    "    separate(end_time1, into = c('end_date', 'end_time'), sep = ' ')\n",
    "head(sessions_tidy, 5)"
   ]
  },
  {
   "cell_type": "markdown",
   "id": "8c2a5d44-36de-45bb-8d05-e4705adf15e0",
   "metadata": {},
   "source": [
    "Great, next we'll have to convert start and end date and time to a useable form. We'll do that by creating a new column called weekdays and a column called month, made by converting our date to a Date type and then we'll convert our time to a numerical value. Finally, we'll create a length (in minutes) column by subtracting the start and end times."
   ]
  },
  {
   "cell_type": "code",
   "execution_count": 45,
   "id": "78b37b1b-90cd-4641-a054-b701cf83e6ba",
   "metadata": {},
   "outputs": [
    {
     "data": {
      "text/html": [
       "<table class=\"dataframe\">\n",
       "<caption>A tibble: 5 × 4</caption>\n",
       "<thead>\n",
       "\t<tr><th scope=col>weekday</th><th scope=col>start_time_dbl</th><th scope=col>end_time_dbl</th><th scope=col>length</th></tr>\n",
       "\t<tr><th scope=col>&lt;fct&gt;</th><th scope=col>&lt;dbl&gt;</th><th scope=col>&lt;dbl&gt;</th><th scope=col>&lt;dbl&gt;</th></tr>\n",
       "</thead>\n",
       "<tbody>\n",
       "\t<tr><td>Sunday  </td><td>18.200000</td><td>18.400000</td><td>12</td></tr>\n",
       "\t<tr><td>Monday  </td><td>23.550000</td><td>23.766667</td><td>13</td></tr>\n",
       "\t<tr><td>Thursday</td><td>17.566667</td><td>17.950000</td><td>23</td></tr>\n",
       "\t<tr><td>Thursday</td><td> 3.366667</td><td> 3.966667</td><td>36</td></tr>\n",
       "\t<tr><td>Saturday</td><td>16.016667</td><td>16.200000</td><td>11</td></tr>\n",
       "</tbody>\n",
       "</table>\n"
      ],
      "text/latex": [
       "A tibble: 5 × 4\n",
       "\\begin{tabular}{llll}\n",
       " weekday & start\\_time\\_dbl & end\\_time\\_dbl & length\\\\\n",
       " <fct> & <dbl> & <dbl> & <dbl>\\\\\n",
       "\\hline\n",
       "\t Sunday   & 18.200000 & 18.400000 & 12\\\\\n",
       "\t Monday   & 23.550000 & 23.766667 & 13\\\\\n",
       "\t Thursday & 17.566667 & 17.950000 & 23\\\\\n",
       "\t Thursday &  3.366667 &  3.966667 & 36\\\\\n",
       "\t Saturday & 16.016667 & 16.200000 & 11\\\\\n",
       "\\end{tabular}\n"
      ],
      "text/markdown": [
       "\n",
       "A tibble: 5 × 4\n",
       "\n",
       "| weekday &lt;fct&gt; | start_time_dbl &lt;dbl&gt; | end_time_dbl &lt;dbl&gt; | length &lt;dbl&gt; |\n",
       "|---|---|---|---|\n",
       "| Sunday   | 18.200000 | 18.400000 | 12 |\n",
       "| Monday   | 23.550000 | 23.766667 | 13 |\n",
       "| Thursday | 17.566667 | 17.950000 | 23 |\n",
       "| Thursday |  3.366667 |  3.966667 | 36 |\n",
       "| Saturday | 16.016667 | 16.200000 | 11 |\n",
       "\n"
      ],
      "text/plain": [
       "  weekday  start_time_dbl end_time_dbl length\n",
       "1 Sunday   18.200000      18.400000    12    \n",
       "2 Monday   23.550000      23.766667    13    \n",
       "3 Thursday 17.566667      17.950000    23    \n",
       "4 Thursday  3.366667       3.966667    36    \n",
       "5 Saturday 16.016667      16.200000    11    "
      ]
     },
     "metadata": {},
     "output_type": "display_data"
    }
   ],
   "source": [
    "sessions_wrangled <- sessions_tidy |>\n",
    "# get weekdays\n",
    "    mutate(weekday = as.factor(weekdays(strptime(as.character(start_date), \"%d/%m/%Y\")))) |>\n",
    "# convert start_time\n",
    "    separate(start_time, into = c('start_hour', 'start_minute'), sep = ':') |>\n",
    "    mutate(start_time_dbl = as.numeric(start_hour) + (as.numeric(start_minute)/60))|>\n",
    "# convert end_time\n",
    "    separate(end_time, into = c('end_hour', 'end_minute'), sep = ':') |>\n",
    "    mutate(end_time_dbl = as.numeric(end_hour) + (as.numeric(end_minute)/60))|>\n",
    "# get length of session in minutes\n",
    "    mutate(length = (end_time_dbl - start_time_dbl) * 60) |>\n",
    "# select only important columns\n",
    "    select(weekday, start_time_dbl, end_time_dbl, length)\n",
    "head(sessions_wrangled, 5)"
   ]
  },
  {
   "cell_type": "markdown",
   "id": "0d591ca5-2077-4012-a419-d2e7b92ffeec",
   "metadata": {},
   "source": [
    "# Summary of the Data"
   ]
  },
  {
   "cell_type": "markdown",
   "id": "ea656996-8558-43b4-b062-985d3d3e7fe5",
   "metadata": {},
   "source": [
    "# Visualization of the dataset"
   ]
  },
  {
   "cell_type": "markdown",
   "id": "728fd682-27ec-4840-aab2-1e2124a3c86b",
   "metadata": {},
   "source": [
    "# Data Analysis"
   ]
  },
  {
   "cell_type": "markdown",
   "id": "1c635497-290e-4d0c-8378-664bf2405293",
   "metadata": {},
   "source": [
    "# Visualization of the Analysis "
   ]
  },
  {
   "cell_type": "code",
   "execution_count": null,
   "id": "a07291f7-e716-418c-8de2-032b5ca80adc",
   "metadata": {},
   "outputs": [],
   "source": []
  }
 ],
 "metadata": {
  "kernelspec": {
   "display_name": "R",
   "language": "R",
   "name": "ir"
  },
  "language_info": {
   "codemirror_mode": "r",
   "file_extension": ".r",
   "mimetype": "text/x-r-source",
   "name": "R",
   "pygments_lexer": "r",
   "version": "4.3.3"
  }
 },
 "nbformat": 4,
 "nbformat_minor": 5
}
