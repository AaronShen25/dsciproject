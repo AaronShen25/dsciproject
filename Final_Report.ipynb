{
 "cells": [
  {
   "cell_type": "markdown",
   "id": "9124660e-04e3-4739-9b54-b6f622f3c50d",
   "metadata": {},
   "source": [
    "# Loading the Data"
   ]
  },
  {
   "cell_type": "code",
   "execution_count": 1,
   "id": "ea4801e6-488c-415f-8960-6a088e1ab56f",
   "metadata": {},
   "outputs": [
    {
     "name": "stderr",
     "output_type": "stream",
     "text": [
      "── \u001b[1mAttaching core tidyverse packages\u001b[22m ──────────────────────── tidyverse 2.0.0 ──\n",
      "\u001b[32m✔\u001b[39m \u001b[34mdplyr    \u001b[39m 1.1.4     \u001b[32m✔\u001b[39m \u001b[34mreadr    \u001b[39m 2.1.5\n",
      "\u001b[32m✔\u001b[39m \u001b[34mforcats  \u001b[39m 1.0.0     \u001b[32m✔\u001b[39m \u001b[34mstringr  \u001b[39m 1.5.1\n",
      "\u001b[32m✔\u001b[39m \u001b[34mggplot2  \u001b[39m 3.5.1     \u001b[32m✔\u001b[39m \u001b[34mtibble   \u001b[39m 3.2.1\n",
      "\u001b[32m✔\u001b[39m \u001b[34mlubridate\u001b[39m 1.9.3     \u001b[32m✔\u001b[39m \u001b[34mtidyr    \u001b[39m 1.3.1\n",
      "\u001b[32m✔\u001b[39m \u001b[34mpurrr    \u001b[39m 1.0.2     \n",
      "── \u001b[1mConflicts\u001b[22m ────────────────────────────────────────── tidyverse_conflicts() ──\n",
      "\u001b[31m✖\u001b[39m \u001b[34mdplyr\u001b[39m::\u001b[32mfilter()\u001b[39m masks \u001b[34mstats\u001b[39m::filter()\n",
      "\u001b[31m✖\u001b[39m \u001b[34mdplyr\u001b[39m::\u001b[32mlag()\u001b[39m    masks \u001b[34mstats\u001b[39m::lag()\n",
      "\u001b[36mℹ\u001b[39m Use the conflicted package (\u001b[3m\u001b[34m<http://conflicted.r-lib.org/>\u001b[39m\u001b[23m) to force all conflicts to become errors\n",
      "── \u001b[1mAttaching packages\u001b[22m ────────────────────────────────────── tidymodels 1.1.1 ──\n",
      "\n",
      "\u001b[32m✔\u001b[39m \u001b[34mbroom       \u001b[39m 1.0.6     \u001b[32m✔\u001b[39m \u001b[34mrsample     \u001b[39m 1.2.1\n",
      "\u001b[32m✔\u001b[39m \u001b[34mdials       \u001b[39m 1.3.0     \u001b[32m✔\u001b[39m \u001b[34mtune        \u001b[39m 1.1.2\n",
      "\u001b[32m✔\u001b[39m \u001b[34minfer       \u001b[39m 1.0.7     \u001b[32m✔\u001b[39m \u001b[34mworkflows   \u001b[39m 1.1.4\n",
      "\u001b[32m✔\u001b[39m \u001b[34mmodeldata   \u001b[39m 1.4.0     \u001b[32m✔\u001b[39m \u001b[34mworkflowsets\u001b[39m 1.0.1\n",
      "\u001b[32m✔\u001b[39m \u001b[34mparsnip     \u001b[39m 1.2.1     \u001b[32m✔\u001b[39m \u001b[34myardstick   \u001b[39m 1.3.1\n",
      "\u001b[32m✔\u001b[39m \u001b[34mrecipes     \u001b[39m 1.1.0     \n",
      "\n",
      "── \u001b[1mConflicts\u001b[22m ───────────────────────────────────────── tidymodels_conflicts() ──\n",
      "\u001b[31m✖\u001b[39m \u001b[34mscales\u001b[39m::\u001b[32mdiscard()\u001b[39m masks \u001b[34mpurrr\u001b[39m::discard()\n",
      "\u001b[31m✖\u001b[39m \u001b[34mdplyr\u001b[39m::\u001b[32mfilter()\u001b[39m   masks \u001b[34mstats\u001b[39m::filter()\n",
      "\u001b[31m✖\u001b[39m \u001b[34mrecipes\u001b[39m::\u001b[32mfixed()\u001b[39m  masks \u001b[34mstringr\u001b[39m::fixed()\n",
      "\u001b[31m✖\u001b[39m \u001b[34mdplyr\u001b[39m::\u001b[32mlag()\u001b[39m      masks \u001b[34mstats\u001b[39m::lag()\n",
      "\u001b[31m✖\u001b[39m \u001b[34myardstick\u001b[39m::\u001b[32mspec()\u001b[39m masks \u001b[34mreadr\u001b[39m::spec()\n",
      "\u001b[31m✖\u001b[39m \u001b[34mrecipes\u001b[39m::\u001b[32mstep()\u001b[39m   masks \u001b[34mstats\u001b[39m::step()\n",
      "\u001b[34m•\u001b[39m Search for functions across packages at \u001b[32mhttps://www.tidymodels.org/find/\u001b[39m\n",
      "\n",
      "Registered S3 method overwritten by 'GGally':\n",
      "  method from   \n",
      "  +.gg   ggplot2\n",
      "\n"
     ]
    }
   ],
   "source": [
    "library(tidyverse)\n",
    "library(tidymodels)\n",
    "library(GGally)"
   ]
  },
  {
   "cell_type": "code",
   "execution_count": null,
   "id": "0b744d4f-14f3-4489-b167-21fe0e267921",
   "metadata": {},
   "outputs": [],
   "source": [
    "sessions <- \"data/sessions.csv\" |>\n",
    "    read_csv()"
   ]
  },
  {
   "cell_type": "code",
   "execution_count": null,
   "id": "d7fd6efa-bdfa-43ca-8b5e-3a31045aa306",
   "metadata": {
    "scrolled": true
   },
   "outputs": [],
   "source": [
    "numrows <- sessions |>\n",
    "    nrow()\n",
    "sprintf(\"Number of Observations: %s\", numrows)"
   ]
  },
  {
   "cell_type": "markdown",
   "id": "a4b0cdce-3d5f-4719-99e3-4bd541487e6f",
   "metadata": {},
   "source": [
    "# Wrangle and Cleaning the Data"
   ]
  },
  {
   "cell_type": "markdown",
   "id": "f843e476-1b9e-451f-b588-07b4cbc0f2d7",
   "metadata": {},
   "source": [
    "Using the previously loaded in sessions file, the data we'll have to be tidied so that it can be used more effectively later.\n",
    "\n",
    "To start, we'll rename the hashedEmail column to be consistent with the other columns and by separate starting and ending date and time into their own columns."
   ]
  },
  {
   "cell_type": "code",
   "execution_count": null,
   "id": "1a7703b3-bc43-4893-8c55-1ba2899efd24",
   "metadata": {},
   "outputs": [],
   "source": [
    "sessions_tidy <- sessions |>\n",
    "    rename(hashed_email = hashedEmail, start_time1 = start_time, end_time1 = end_time) |> # temporary names added to start and end time to prevent errors in seperate\n",
    "    separate(start_time1, into = c('start_date', 'start_time'), sep = ' ') |>\n",
    "    separate(end_time1, into = c('end_date', 'end_time'), sep = ' ')\n",
    "head(sessions_tidy, 3)"
   ]
  },
  {
   "cell_type": "markdown",
   "id": "8c2a5d44-36de-45bb-8d05-e4705adf15e0",
   "metadata": {},
   "source": [
    "Great, next we'll have to convert start and end date and time to a useable form. We'll do that by creating a new column called weekdays and a column called month, made by converting our date to a Date type and then we'll convert our time to a numerical value. Finally, we'll create a length (in minutes) column by subtracting the start and end times."
   ]
  },
  {
   "cell_type": "code",
   "execution_count": null,
   "id": "78b37b1b-90cd-4641-a054-b701cf83e6ba",
   "metadata": {},
   "outputs": [],
   "source": [
    "sessions_wrangled <- sessions_tidy |>\n",
    "# get weekdays\n",
    "    mutate(weekday = as.factor(weekdays(strptime(start_date, \"%d/%m/%Y\")))) |>\n",
    "# get months\n",
    "    mutate(month = as.factor(months(strptime(start_date, \"%d/%m/%Y\")))) |>\n",
    "# convert start_time\n",
    "    separate(start_time, into = c('start_hour', 'start_minute'), sep = ':') |>\n",
    "    mutate(start_time_dbl = as.numeric(start_hour) + (as.numeric(start_minute)/60))|>\n",
    "# convert end_time\n",
    "    separate(end_time, into = c('end_hour', 'end_minute'), sep = ':') |>\n",
    "    mutate(end_time_dbl = as.numeric(end_hour) + (as.numeric(end_minute)/60))\n",
    "# get the player count at given date and time for each observation by checking if date is the same and\n",
    "# that the start time is inside the interval of (start time, end time) of any other observation\n",
    " sessions_count <- sessions_wrangled |>\n",
    "    rowwise() |>\n",
    "    mutate(player_count = sum(sessions_wrangled$start_date == start_date & \n",
    "      sessions_wrangled$start_time_dbl <= start_time_dbl & \n",
    "      sessions_wrangled$end_time_dbl >= start_time_dbl)) |>\n",
    "# select only important columns\n",
    "    select(player_count, weekday, month, start_time_dbl)\n",
    "head(sessions_count, 3)"
   ]
  },
  {
   "cell_type": "markdown",
   "id": "0d591ca5-2077-4012-a419-d2e7b92ffeec",
   "metadata": {},
   "source": [
    "# Summary of the Data"
   ]
  },
  {
   "cell_type": "code",
   "execution_count": null,
   "id": "4c1ec3b4-68bb-47d5-9aed-05d09fbbc65d",
   "metadata": {},
   "outputs": [],
   "source": [
    "month_plot <- sessions_count |>\n",
    "    ggplot(aes(x = month)) +\n",
    "    geom_bar() +\n",
    "    labs(x = \"Month\", y = \"Total Player Count\")\n",
    "month_plot"
   ]
  },
  {
   "cell_type": "code",
   "execution_count": null,
   "id": "e4a19ec8-cda1-4169-8e6f-67fda9b69cdc",
   "metadata": {},
   "outputs": [],
   "source": [
    "weekday_plot <- sessions_count |>\n",
    "    ggplot(aes(x = weekday) +\n",
    "    geom_bar() +\n",
    "    labs(x = \"Day of the Week\", y = \"Total Player Count\")\n",
    "weekday_plot\n",
    "\n",
    "# ignore this \n",
    "# ggplot(aes((x = reorder(weekday,weekday, function(x)-length(x))))) "
   ]
  },
  {
   "cell_type": "markdown",
   "id": "ea656996-8558-43b4-b062-985d3d3e7fe5",
   "metadata": {},
   "source": [
    "# Visualization of the dataset"
   ]
  },
  {
   "cell_type": "markdown",
   "id": "728fd682-27ec-4840-aab2-1e2124a3c86b",
   "metadata": {},
   "source": [
    "# Data Analysis"
   ]
  },
  {
   "cell_type": "markdown",
   "id": "66e0fe1e-aaa5-4277-a50d-051eef34c8a3",
   "metadata": {},
   "source": [
    "To analyse the data, we'll try and create a linear regression model to predict the player count at a given time using the weekday, month and the time of day as predictors.\n",
    "\n",
    "First we'll split "
   ]
  },
  {
   "cell_type": "code",
   "execution_count": null,
   "id": "90f51a8a-5d1b-46e5-9122-2e82219745ab",
   "metadata": {},
   "outputs": [],
   "source": [
    "set.seed(1111) # DO NOT REMOVE\n",
    "sessions_split <- sessions_count |>\n",
    "    initial_split(prop = 0.6, strata = player_count)\n",
    "\n",
    "sessions_training <- training(sessions_split)\n",
    "sessions_testing <- testing(sessions_split)"
   ]
  },
  {
   "cell_type": "code",
   "execution_count": null,
   "id": "a07291f7-e716-418c-8de2-032b5ca80adc",
   "metadata": {},
   "outputs": [],
   "source": [
    "set.seed(1111) # DO NOT REMOVE\n",
    "\n",
    "sessions_spec <- linear_reg() |>\n",
    "    set_engine(\"lm\") |>\n",
    "    set_mode(\"regression\")\n",
    "\n",
    "sessions_recipe <- recipe(player_count ~ ., data = sessions_training)\n",
    "\n",
    "sessions_fit <- workflow() |>\n",
    "    add_recipe(sessions_recipe) |>\n",
    "    add_model(sessions_spec) |>\n",
    "    fit(data = sessions_training)"
   ]
  },
  {
   "cell_type": "code",
   "execution_count": null,
   "id": "f522b3dd-e9e4-4855-994d-7c5ec0d28254",
   "metadata": {},
   "outputs": [],
   "source": [
    "set.seed(1111) # DO NOT REMOVE\n",
    "\n",
    "sessions_rmspe <- sessions_fit |>\n",
    "         predict(sessions_testing) |>\n",
    "         bind_cols(sessions_testing) |>\n",
    "         metrics(truth = player_count, estimate = .pred) |>\n",
    "         filter(.metric == \"rmse\") |>\n",
    "         select(.estimate) |>\n",
    "         pull()\n",
    "\n",
    "sessions_rmspe"
   ]
  },
  {
   "cell_type": "markdown",
   "id": "1c635497-290e-4d0c-8378-664bf2405293",
   "metadata": {},
   "source": [
    "# Visualization of the Analysis "
   ]
  },
  {
   "cell_type": "markdown",
   "id": "c6e580b3-88d6-4f53-8470-71918633112a",
   "metadata": {},
   "source": [
    " options(repr.plot.height = 8, repr.plot.width = 12)\n",
    " sessions_pairplot <- sessions_training |> \n",
    "     ggpairs(mapping = aes(alpha = 0.4)) +\n",
    "     theme(text = element_text(size = 20))\n",
    "\n",
    "sessions_pairplot\n",
    "\n",
    "this causes the kernel to crash, might not use it\n",
    "\n",
    "find patterns with month and date using geom point"
   ]
  },
  {
   "cell_type": "markdown",
   "id": "54789cb2-7bc7-4f3b-8c34-b90f7cf6880e",
   "metadata": {},
   "source": [
    "# References"
   ]
  },
  {
   "cell_type": "markdown",
   "id": "4459cd57-a7ed-4cdc-8486-316f983628f1",
   "metadata": {},
   "source": [
    "Ressources to help with dealing with the date format\n",
    "\n",
    "https://www.geeksforgeeks.org/convert-date-to-day-of-week-in-r/\n",
    "\n",
    "https://stackoverflow.com/questions/7439977/changing-date-format-in-r"
   ]
  },
  {
   "cell_type": "code",
   "execution_count": null,
   "id": "720135b9-d183-46f9-9f44-39b7174d0f96",
   "metadata": {},
   "outputs": [],
   "source": []
  }
 ],
 "metadata": {
  "kernelspec": {
   "display_name": "R",
   "language": "R",
   "name": "ir"
  },
  "language_info": {
   "codemirror_mode": "r",
   "file_extension": ".r",
   "mimetype": "text/x-r-source",
   "name": "R",
   "pygments_lexer": "r",
   "version": "4.3.3"
  }
 },
 "nbformat": 4,
 "nbformat_minor": 5
}
